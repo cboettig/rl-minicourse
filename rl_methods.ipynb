{
 "cells": [
  {
   "cell_type": "code",
   "execution_count": 1,
   "id": "f8ff6ba4-28f5-4b24-97bc-67f39f382f6d",
   "metadata": {},
   "outputs": [],
   "source": [
    "from fish import fish\n",
    "env = fish()\n"
   ]
  },
  {
   "cell_type": "code",
   "execution_count": 2,
   "id": "7f07b8cc-1f71-4266-b7f8-1698c6a63677",
   "metadata": {},
   "outputs": [],
   "source": [
    "from sb3_contrib import TQC, ARS\n",
    "from stable_baselines3 import PPO, A2C, DQN, SAC, TD3\n",
    "from stable_baselines3.common.env_util import make_vec_env\n",
    "vec_env = make_vec_env(fish, 12)\n"
   ]
  },
  {
   "cell_type": "code",
   "execution_count": 3,
   "id": "d3cbef20-4764-403d-b6f5-b14ae4807cae",
   "metadata": {},
   "outputs": [
    {
     "data": {
      "application/vnd.jupyter.widget-view+json": {
       "model_id": "1eecef69ecc34c079c0b5ff8474aade3",
       "version_major": 2,
       "version_minor": 0
      },
      "text/plain": [
       "Output()"
      ]
     },
     "metadata": {},
     "output_type": "display_data"
    },
    {
     "data": {
      "text/html": [
       "<pre style=\"white-space:pre;overflow-x:auto;line-height:normal;font-family:Menlo,'DejaVu Sans Mono',consolas,'Courier New',monospace\"></pre>\n"
      ],
      "text/plain": []
     },
     "metadata": {},
     "output_type": "display_data"
    },
    {
     "name": "stderr",
     "output_type": "stream",
     "text": [
      "/opt/conda/lib/python3.12/site-packages/torch/cuda/__init__.py:129: UserWarning: CUDA initialization: CUDA unknown error - this may be due to an incorrectly set up environment, e.g. changing env variable CUDA_VISIBLE_DEVICES after program start. Setting the available devices to be zero. (Triggered internally at ../c10/cuda/CUDAFunctions.cpp:108.)\n",
      "  return torch._C._cuda_getDeviceCount() > 0\n"
     ]
    }
   ],
   "source": [
    "model = ARS(\"MlpPolicy\", vec_env, verbose=0, tensorboard_log=\"/home/jovyan/logs\")\n",
    "model.learn(total_timesteps=200_000, tb_log_name=\"ars-fish\", progress_bar=True)\n",
    "model.save(\"ars_fish\")"
   ]
  },
  {
   "cell_type": "code",
   "execution_count": null,
   "id": "449f35be-0b83-47e7-b444-ee77604bd2fd",
   "metadata": {},
   "outputs": [
    {
     "data": {
      "application/vnd.jupyter.widget-view+json": {
       "model_id": "437310d3febe418bbb7d5fbf510b0d7b",
       "version_major": 2,
       "version_minor": 0
      },
      "text/plain": [
       "Output()"
      ]
     },
     "metadata": {},
     "output_type": "display_data"
    }
   ],
   "source": [
    "%%time\n",
    "model = PPO(\"MlpPolicy\", vec_env, verbose=0, tensorboard_log=\"/home/jovyan/logs\", use_sde=True, device =\"cpu\")\n",
    "model.learn(total_timesteps=800_000, tb_log_name=\"ppo-fish\", progress_bar=True)\n",
    "model.save(\"ppo_fish\")"
   ]
  },
  {
   "cell_type": "code",
   "execution_count": null,
   "id": "4ff5b077-eda8-46f8-88ed-c80a04d4936f",
   "metadata": {},
   "outputs": [],
   "source": [
    "model = TQC(\"MlpPolicy\", env, verbose=0, tensorboard_log=\"/home/jovyan/logs\", use_sde=True)\n",
    "model.learn(total_timesteps=200_000, tb_log_name= \"tqc-fish\", progress_bar=True)\n",
    "model.save(\"tqc_fish\")"
   ]
  },
  {
   "cell_type": "code",
   "execution_count": null,
   "id": "9d30688e-d637-4efb-b35c-9bbc683d94b7",
   "metadata": {},
   "outputs": [],
   "source": [
    "from utils import policy_fn\n",
    "import numpy as np\n",
    "#policy_fn(model, env)\n",
    "model = ARS(\"MlpPolicy\", env, device=\"cpu\")\n",
    "agent = model.load(\"ars_fish\")\n",
    "policy_fn(agent, env, N = 100)"
   ]
  },
  {
   "cell_type": "code",
   "execution_count": null,
   "id": "0be2a3e7-d16e-4ae1-b5a2-c6554b93bd73",
   "metadata": {},
   "outputs": [],
   "source": [
    "model = ARS(\"MlpPolicy\", env, device=\"cpu\")\n",
    "agent = model.load(\"ars_fish\")\n",
    "policy_fn(agent, env, N = 100)"
   ]
  },
  {
   "cell_type": "code",
   "execution_count": null,
   "id": "cb0140cd-6762-4617-90f6-799db266153e",
   "metadata": {},
   "outputs": [],
   "source": [
    "model = PPO(\"MlpPolicy\", env, device=\"cpu\")\n",
    "agent = model.load(\"ppo_fish\")\n",
    "policy_fn(agent, env, N = 100)"
   ]
  }
 ],
 "metadata": {
  "kernelspec": {
   "display_name": "Python 3 (ipykernel)",
   "language": "python",
   "name": "python3"
  },
  "language_info": {
   "codemirror_mode": {
    "name": "ipython",
    "version": 3
   },
   "file_extension": ".py",
   "mimetype": "text/x-python",
   "name": "python",
   "nbconvert_exporter": "python",
   "pygments_lexer": "ipython3",
   "version": "3.12.8"
  }
 },
 "nbformat": 4,
 "nbformat_minor": 5
}
