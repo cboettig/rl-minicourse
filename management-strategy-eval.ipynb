{
 "cells": [
  {
   "cell_type": "markdown",
   "metadata": {},
   "source": [
    "#  Unit 1\n",
    "\n"
   ]
  },
  {
   "cell_type": "markdown",
   "metadata": {},
   "source": [
    "# Fixed strategy optimization"
   ]
  },
  {
   "cell_type": "code",
   "execution_count": 1,
   "metadata": {},
   "outputs": [],
   "source": [
    "from fish import fish\n",
    "env = fish()"
   ]
  },
  {
   "cell_type": "code",
   "execution_count": 5,
   "metadata": {},
   "outputs": [],
   "source": [
    "import numpy as np\n",
    "# A simple agent\n",
    "class some_agent:\n",
    "    def __init__(self, effort):\n",
    "        self.effort = effort\n",
    "\n",
    "    def predict(self, obs, **kwargs):\n",
    "        return self.effort, {}\n",
    "\n"
   ]
  },
  {
   "cell_type": "code",
   "execution_count": 6,
   "metadata": {},
   "outputs": [],
   "source": [
    "from skopt import gp_minimize, gbrt_minimize\n",
    "from skopt.plots import plot_objective, plot_convergence, plot_gaussian_process\n",
    "from utils import simulate\n",
    "\n",
    "\n",
    "def g(x):\n",
    "    agent = some_agent(x)\n",
    "    def my_function(i):\n",
    "        np.random.seed(i)\n",
    "        df, mu = simulate(agent, env, timeseries=False)\n",
    "        return mu\n",
    "        \n",
    "    results = [my_function(i) for i in range(100)]\n",
    "    return -np.mean(results)\n",
    "\n"
   ]
  },
  {
   "cell_type": "code",
   "execution_count": null,
   "metadata": {},
   "outputs": [],
   "source": [
    "%%time\n",
    "# look for actions between [-1,1] for each species.\n",
    "res = gp_minimize(g, [(-1.0, 1.0)], n_calls = 50, verbose=False, n_jobs=-1)\n",
    "res.fun, res.x"
   ]
  },
  {
   "cell_type": "code",
   "execution_count": null,
   "metadata": {},
   "outputs": [],
   "source": [
    "import matplotlib.pyplot as plt\n",
    "\n",
    "ax = plot_objective(res)\n",
    "\n",
    "plt.show()"
   ]
  },
  {
   "cell_type": "code",
   "execution_count": null,
   "metadata": {},
   "outputs": [],
   "source": [
    "\n",
    "ax2 = plot_convergence(res)\n",
    "\n",
    "plt.show()"
   ]
  },
  {
   "cell_type": "code",
   "execution_count": null,
   "metadata": {},
   "outputs": [],
   "source": [
    "\n",
    "ax2 = plot_gaussian_process(res)\n",
    "\n",
    "plt.show()"
   ]
  }
 ],
 "metadata": {
  "kernelspec": {
   "display_name": "Python 3 (ipykernel)",
   "language": "python",
   "name": "python3"
  },
  "language_info": {
   "codemirror_mode": {
    "name": "ipython",
    "version": 3
   },
   "file_extension": ".py",
   "mimetype": "text/x-python",
   "name": "python",
   "nbconvert_exporter": "python",
   "pygments_lexer": "ipython3",
   "version": "3.12.8"
  }
 },
 "nbformat": 4,
 "nbformat_minor": 4
}
