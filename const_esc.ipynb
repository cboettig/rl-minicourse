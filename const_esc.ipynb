{
 "cells": [
  {
   "cell_type": "code",
   "execution_count": null,
   "metadata": {
    "tags": []
   },
   "outputs": [],
   "source": [
    "import gymnasium as gym\n",
    "from stable_baselines3.common.env_checker import check_env\n",
    "import numpy as np\n",
    "import pandas as pd\n",
    "from plotnine import ggplot, geom_point, aes, geom_line\n",
    "from envs.one_fish import one_fish\n",
    "from envs.rescale_env import rescale_env\n",
    "\n",
    "# RL envs work in transformed units\n",
    "rl_env = one_fish()\n",
    "env = rescale_env(rl_env)\n",
    "\n",
    "check_env(rl_env)\n",
    "\n",
    "def const_esc(obs, esc=0.5):\n",
    "  harvest = np.max([obs[0] - esc, 0])\n",
    "  effort = harvest / obs\n",
    "  return(effort)\n",
    "\n",
    "# consider an alternative initial state\n",
    "env.rl_env.initial_pop = np.array([0.1], dtype=np.float32)\n"
   ]
  },
  {
   "cell_type": "code",
   "execution_count": null,
   "metadata": {
    "tags": []
   },
   "outputs": [],
   "source": [
    "df = []\n",
    "episode_reward = 0\n",
    "observation, _ = env.reset()\n",
    "\n",
    "\n",
    "for t in range(env.Tmax):\n",
    "  action = const_esc(observation)\n",
    "  df.append([t, action[0], episode_reward, observation[0]])\n",
    "  observation, reward, terminated, done, info = env.step(action)\n",
    "  episode_reward += reward\n",
    "  if terminated:\n",
    "    break\n",
    "\n",
    "\n",
    "cols = [\"t\",\"action\", \"reward\", \"state\"]\n",
    "df = pd.DataFrame(df, columns = cols)\n",
    "\n",
    "df[\"escapement\"] = (df.state - df.action * df.state)\n"
   ]
  },
  {
   "cell_type": "code",
   "execution_count": null,
   "metadata": {
    "tags": []
   },
   "outputs": [],
   "source": [
    "df"
   ]
  },
  {
   "cell_type": "code",
   "execution_count": null,
   "metadata": {
    "tags": []
   },
   "outputs": [],
   "source": [
    "\n",
    "episode_reward\n"
   ]
  },
  {
   "cell_type": "code",
   "execution_count": null,
   "metadata": {
    "tags": []
   },
   "outputs": [],
   "source": [
    "\n",
    "ggplot(df, aes(\"t\", \"state\")) + geom_line()\n",
    "\n",
    "\n"
   ]
  }
 ],
 "metadata": {
  "kernelspec": {
   "display_name": "Python 3 (ipykernel)",
   "language": "python",
   "name": "python3"
  },
  "language_info": {
   "codemirror_mode": {
    "name": "ipython",
    "version": 3
   },
   "file_extension": ".py",
   "mimetype": "text/x-python",
   "name": "python",
   "nbconvert_exporter": "python",
   "pygments_lexer": "ipython3",
   "version": "3.10.6"
  }
 },
 "nbformat": 4,
 "nbformat_minor": 4
}
