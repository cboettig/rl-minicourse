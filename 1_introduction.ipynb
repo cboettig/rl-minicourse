{
 "cells": [
  {
   "cell_type": "code",
   "execution_count": 1,
   "id": "1b4dead2-af90-4518-a92b-b475df62ff66",
   "metadata": {},
   "outputs": [],
   "source": [
    "from fish import fish\n",
    "env = fish()"
   ]
  },
  {
   "cell_type": "code",
   "execution_count": 4,
   "id": "01cf3d06-a471-4f5f-9037-1d0cb8ce121a",
   "metadata": {},
   "outputs": [
    {
     "name": "stdout",
     "output_type": "stream",
     "text": [
      "[0.58297884]\n"
     ]
    }
   ],
   "source": [
    "obs, reward, done = env.time_step(0)\n",
    "print(obs)"
   ]
  }
 ],
 "metadata": {
  "kernelspec": {
   "display_name": "Python 3 (ipykernel)",
   "language": "python",
   "name": "python3"
  },
  "language_info": {
   "codemirror_mode": {
    "name": "ipython",
    "version": 3
   },
   "file_extension": ".py",
   "mimetype": "text/x-python",
   "name": "python",
   "nbconvert_exporter": "python",
   "pygments_lexer": "ipython3",
   "version": "3.12.8"
  }
 },
 "nbformat": 4,
 "nbformat_minor": 5
}
